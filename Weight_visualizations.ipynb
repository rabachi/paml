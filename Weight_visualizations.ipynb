{
 "cells": [
  {
   "cell_type": "code",
   "execution_count": 1,
   "metadata": {},
   "outputs": [],
   "source": [
    "import torch\n",
    "import numpy as np\n",
    "from models import *\n",
    "import os "
   ]
  },
  {
   "cell_type": "code",
   "execution_count": 2,
   "metadata": {},
   "outputs": [],
   "source": [
    "states_dim = 10\n",
    "actions_dim = 10\n",
    "MAX_TORQUE = 2.0\n",
    "small_model = True\n",
    "device = 'cpu'\n",
    "file_location = 'results/'"
   ]
  },
  {
   "cell_type": "code",
   "execution_count": 3,
   "metadata": {},
   "outputs": [],
   "source": [
    "P_hat = DirectEnvModel(states_dim, actions_dim, MAX_TORQUE, small=small_model)#, action_multiplier=0.1)\n",
    "P_hat.double()\n",
    "P_hat.load_state_dict(torch.load(os.path.join(file_location,'model_mle_checkpoint_actorcritic_lin-dyn-v0_horizon1_traj201_smallModel_1.pth'), map_location=device))\n",
    "\n",
    "\n"
   ]
  },
  {
   "cell_type": "code",
   "execution_count": 4,
   "metadata": {},
   "outputs": [],
   "source": [
    "weights = P_hat.fc1.weight.data.numpy()\n",
    "biases = P_hat.fc1.bias.data.numpy()"
   ]
  },
  {
   "cell_type": "code",
   "execution_count": 5,
   "metadata": {},
   "outputs": [
    {
     "data": {
      "text/plain": [
       "(10, 20)"
      ]
     },
     "execution_count": 5,
     "metadata": {},
     "output_type": "execute_result"
    }
   ],
   "source": [
    "weights.shape"
   ]
  },
  {
   "cell_type": "code",
   "execution_count": 6,
   "metadata": {},
   "outputs": [
    {
     "data": {
      "text/plain": [
       "(10,)"
      ]
     },
     "execution_count": 6,
     "metadata": {},
     "output_type": "execute_result"
    }
   ],
   "source": [
    "biases.shape"
   ]
  },
  {
   "cell_type": "code",
   "execution_count": 7,
   "metadata": {},
   "outputs": [],
   "source": [
    "import matplotlib\n",
    "matplotlib.use('Agg')\n",
    "import matplotlib.pyplot as plt\n",
    "%matplotlib inline"
   ]
  },
  {
   "cell_type": "code",
   "execution_count": 8,
   "metadata": {},
   "outputs": [],
   "source": [
    "def display_weights(file_name):\n",
    "    P_hat.load_state_dict(torch.load(os.path.join(file_location,file_name), map_location=device))\n",
    "    weights = P_hat.fc1.weight.data.numpy()\n",
    "    print(weights[:2,:2])\n",
    "    print(weights[:2,10:12])\n",
    "    biases = P_hat.fc1.bias.data.numpy()\n",
    "    maxVal = weights.max()\n",
    "    minVal = np.abs(weights.min())\n",
    "    maxVal = np.maximum(maxVal,minVal)\n",
    "    weights = weights / maxVal\n",
    "    weights = weights / 2.\n",
    "    weights = weights + 0.5\n",
    "    plt.imshow(weights, cmap=\"gray\")\n",
    "    plt.show()"
   ]
  },
  {
   "cell_type": "code",
   "execution_count": 23,
   "metadata": {},
   "outputs": [
    {
     "name": "stdout",
     "output_type": "stream",
     "text": [
      "[[ 0.30770386  0.13599598]\n",
      " [-0.13522233  0.30587859]]\n",
      "[[ 0.0335617  -0.00174411]\n",
      " [ 0.00125616  0.03346254]]\n"
     ]
    },
    {
     "data": {
      "image/png": "[encoded data removed]",
      "text/plain": [
       "<Figure size 432x288 with 1 Axes>"
      ]
     },
     "metadata": {
      "needs_background": "light"
     },
     "output_type": "display_data"
    }
   ],
   "source": [
    "display_weights('model_mle_checkpoint_actorcritic_lin-dyn-v0_horizon1_traj201_smallModel_1.pth')"
   ]
  },
  {
   "cell_type": "code",
   "execution_count": 10,
   "metadata": {},
   "outputs": [
    {
     "data": {
      "text/plain": [
       "array([-5.26170196e-05, -1.53752271e-05, -4.78623417e-04, -4.82919699e-04,\n",
       "       -4.27596879e-04, -4.67500355e-04, -4.57764085e-04, -4.72443765e-04,\n",
       "       -4.83604006e-04, -4.33741968e-04])"
      ]
     },
     "execution_count": 10,
     "metadata": {},
     "output_type": "execute_result"
    }
   ],
   "source": [
    "biases"
   ]
  },
  {
   "cell_type": "code",
   "execution_count": 11,
   "metadata": {},
   "outputs": [
    {
     "data": {
      "text/plain": [
       "array([[ 3.07703864e-01,  1.35995981e-01,  1.08137166e-04],\n",
       "       [-1.35222335e-01,  3.05878590e-01,  5.84128878e-06],\n",
       "       [ 1.05971527e-03, -3.76342874e-04,  3.34494977e-01]])"
      ]
     },
     "execution_count": 11,
     "metadata": {},
     "output_type": "execute_result"
    }
   ],
   "source": [
    "weights[:3,:3]"
   ]
  },
  {
   "cell_type": "code",
   "execution_count": 34,
   "metadata": {},
   "outputs": [
    {
     "name": "stdout",
     "output_type": "stream",
     "text": [
      "[[-0.00387795 -0.01594487]\n",
      " [-0.00238006 -0.00516345]]\n",
      "[[ 0.00132322  0.00068781]\n",
      " [-0.00206679 -0.00061519]]\n"
     ]
    },
    {
     "data": {
      "image/png": "[encoded data removed]",
      "text/plain": [
       "<Figure size 432x288 with 1 Axes>"
      ]
     },
     "metadata": {
      "needs_background": "light"
     },
     "output_type": "display_data"
    }
   ],
   "source": [
    "display_weights('act_model_paml_state10_salient2_checkpoint_train_True_lin-dyn-v0_horizon1_traj201_smallModel_1.pth')"
   ]
  },
  {
   "cell_type": "markdown",
   "metadata": {},
   "source": [
    "Wasn't training, weights look random ..."
   ]
  },
  {
   "cell_type": "code",
   "execution_count": 32,
   "metadata": {},
   "outputs": [
    {
     "name": "stdout",
     "output_type": "stream",
     "text": [
      "[[1044.17570715 -822.79511557]\n",
      " [-155.20379949  760.92679758]]\n",
      "[[ 576.9751733    67.87160464]\n",
      " [-405.52804029   79.97901619]]\n"
     ]
    },
    {
     "data": {
      "image/png": "[encoded data removed]",
      "text/plain": [
       "<Figure size 432x288 with 1 Axes>"
      ]
     },
     "metadata": {
      "needs_background": "light"
     },
     "output_type": "display_data"
    }
   ],
   "source": [
    "display_weights('model_mle_checkpoint_reinforce_lin_dyn_horizon50_traj51_smallModel_1.pth')"
   ]
  },
  {
   "cell_type": "markdown",
   "metadata": {},
   "source": [
    "Probably stopped training too early for this one ..."
   ]
  },
  {
   "cell_type": "code",
   "execution_count": 31,
   "metadata": {},
   "outputs": [
    {
     "name": "stdout",
     "output_type": "stream",
     "text": [
      "[[-0.0166819   0.20315394]\n",
      " [-0.03169831 -0.10066503]]\n",
      "[[ 0.10860278 -0.05724789]\n",
      " [ 0.03399184  0.03849743]]\n"
     ]
    },
    {
     "data": {
      "image/png": "[encoded data removed]",
      "text/plain": [
       "<Figure size 432x288 with 1 Axes>"
      ]
     },
     "metadata": {
      "needs_background": "light"
     },
     "output_type": "display_data"
    }
   ],
   "source": [
    "display_weights('model_paml_checkpoint_train_True_lin_dyn_horizon50_traj51_smallModel_1.pth')"
   ]
  },
  {
   "cell_type": "code",
   "execution_count": 30,
   "metadata": {},
   "outputs": [
    {
     "name": "stdout",
     "output_type": "stream",
     "text": [
      "[[ 0.30310381  0.13485328]\n",
      " [-0.13477149  0.30362083]]\n",
      "[[ 3.45996250e-02 -4.89363494e-04]\n",
      " [ 9.62992819e-05  3.39257682e-02]]\n"
     ]
    },
    {
     "data": {
      "image/png": "[encoded data removed]",
      "text/plain": [
       "<Figure size 432x288 with 1 Axes>"
      ]
     },
     "metadata": {
      "needs_background": "light"
     },
     "output_type": "display_data"
    }
   ],
   "source": [
    "display_weights('model_mle_checkpoint_reinforce_lin_dyn_horizon20_traj21_smallModel_1.pth')"
   ]
  },
  {
   "cell_type": "code",
   "execution_count": 29,
   "metadata": {},
   "outputs": [
    {
     "name": "stdout",
     "output_type": "stream",
     "text": [
      "[[0.09303363 0.01623503]\n",
      " [0.07580302 0.01064247]]\n",
      "[[ 0.02412099  0.05464225]\n",
      " [ 0.05756873 -0.02648561]]\n"
     ]
    },
    {
     "data": {
      "image/png": "[encoded data removed]",
      "text/plain": [
       "<Figure size 432x288 with 1 Axes>"
      ]
     },
     "metadata": {
      "needs_background": "light"
     },
     "output_type": "display_data"
    }
   ],
   "source": [
    "display_weights('model_paml_checkpoint_train_True_lin_dyn_horizon20_traj21_smallModel_1.pth')"
   ]
  },
  {
   "cell_type": "code",
   "execution_count": null,
   "metadata": {},
   "outputs": [],
   "source": []
  },
  {
   "cell_type": "code",
   "execution_count": null,
   "metadata": {},
   "outputs": [],
   "source": []
  }
 ],
 "metadata": {
  "kernelspec": {
   "display_name": "Python 3",
   "language": "python",
   "name": "python3"
  },
  "language_info": {
   "codemirror_mode": {
    "name": "ipython",
    "version": 3
   },
   "file_extension": ".py",
   "mimetype": "text/x-python",
   "name": "python",
   "nbconvert_exporter": "python",
   "pygments_lexer": "ipython3",
   "version": "3.6.8"
  }
 },
 "nbformat": 4,
 "nbformat_minor": 2
}
